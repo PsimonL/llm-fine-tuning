{
 "cells": [
  {
   "cell_type": "code",
   "execution_count": null,
   "id": "b9ffa14b",
   "metadata": {},
   "outputs": [
    {
     "name": "stderr",
     "output_type": "stream",
     "text": [
      "/home/kyre/repos/llm-fine-tuning/.venv/lib/python3.12/site-packages/tqdm/auto.py:21: TqdmWarning: IProgress not found. Please update jupyter and ipywidgets. See https://ipywidgets.readthedocs.io/en/stable/user_install.html\n",
      "  from .autonotebook import tqdm as notebook_tqdm\n"
     ]
    }
   ],
   "source": [
    "from llamafactory.chat import ChatModel\n",
    "from llamafactory.extras.misc import torch_gc \n",
    "import json\n",
    "from src.utils import extract_sql, chdiff \n",
    "\n",
    "import logging\n",
    "\n",
    "logging.disable(logging.CRITICAL)\n",
    "\n",
    "with open(\"data/dataset_test.json\", \"r\") as f:\n",
    "    test_ds = json.load(f)\n",
    "\n",
    "\n",
    "BASE_MODEL_PATH = \"Qwen/Qwen3-0.6B\"\n",
    "ADAPTER_PATH = \"out/checkpoint-250\" # directory of LoRA checkpoint\n",
    "\n",
    "args = dict(\n",
    "    model_name_or_path=BASE_MODEL_PATH,\n",
    "    adapter_name_or_path=ADAPTER_PATH,\n",
    "    template=\"qwen3\", \n",
    "    finetuning_type=\"lora\"\n",
    ")\n",
    "chat_model = ChatModel(args)\n",
    "\n",
    "\n",
    "def print_red(text, *args, **kwargs):\n",
    "    print(f\"\\033[91m{text}\\033[0m\", *args, **kwargs)\n",
    "def print_green(text, *args, **kwargs):\n",
    "    print(f\"\\033[92m{text}\\033[0m\", *args, **kwargs)\n",
    "def print_yellow(text, *args, **kwargs):\n",
    "    print(f\"\\033[93m{text}\\033[0m\", *args, **kwargs)\n",
    "\n",
    "\n",
    "system_prompt = test_ds[0][\"system\"]\n",
    "print_red(f\"System:\\n{system_prompt}\\n\", end=\"\", flush=True)\n",
    "\n",
    "messages = []\n",
    "for entry in test_ds:\n",
    "    conversation = entry[\"conversations\"]\n",
    "    user_prompt = conversation[0][\"value\"]\n",
    "    true_sql = extract_sql(conversation[1][\"value\"]) \n",
    "\n",
    "    messages = [{\"role\": \"user\", \"content\": user_prompt}]\n",
    "\n",
    "    print_green(f\"User:\\n{user_prompt}\\n\", end=\"\", flush=True)\n",
    "    print_yellow(\"\\nAssistant: \", end=\"\", flush=True)\n",
    "\n",
    "    response = \"\"\n",
    "    for new_text in chat_model.stream_chat(messages, system=system_prompt):\n",
    "        print_yellow(new_text, end=\"\", flush=True)\n",
    "        response += new_text\n",
    "\n",
    "    messages.append({\"role\": \"assistant\", \"content\": response})\n",
    "\n",
    "    predicted_sql = extract_sql(response)\n",
    "\n",
    "    print(\"\\nDiff:\\n\", end=\"\", flush=True)\n",
    "    \n",
    "    print(chdiff(true_sql, predicted_sql))\n",
    "\n",
    "    print() \n",
    "    torch_gc()\n",
    "\n",
    "    input_text = input(\"User: \")\n",
    "    if input_text == \"exit\":\n",
    "        break"
   ]
  }
 ],
 "metadata": {
  "kernelspec": {
   "display_name": ".venv",
   "language": "python",
   "name": "python3"
  },
  "language_info": {
   "codemirror_mode": {
    "name": "ipython",
    "version": 3
   },
   "file_extension": ".py",
   "mimetype": "text/x-python",
   "name": "python",
   "nbconvert_exporter": "python",
   "pygments_lexer": "ipython3",
   "version": "3.12.3"
  }
 },
 "nbformat": 4,
 "nbformat_minor": 5
}
