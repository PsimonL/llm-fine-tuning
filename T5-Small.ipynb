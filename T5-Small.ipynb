{
 "cells": [
  {
   "cell_type": "code",
   "execution_count": 1,
   "id": "20569e0e-ed3b-4dd7-98a4-f1ad25965886",
   "metadata": {},
   "outputs": [
    {
     "name": "stderr",
     "output_type": "stream",
     "text": [
      "/home/stud2020/0starzyk/llm-fine-tuning/my-venv/lib/python3.11/site-packages/tqdm/auto.py:21: TqdmWarning: IProgress not found. Please update jupyter and ipywidgets. See https://ipywidgets.readthedocs.io/en/stable/user_install.html\n",
      "  from .autonotebook import tqdm as notebook_tqdm\n"
     ]
    }
   ],
   "source": [
    "from datasets import load_dataset\n",
    "import pandas as pd\n",
    "\n",
    "# Load dataset\n",
    "dataset = load_dataset(\"gretelai/synthetic_text_to_sql\")\n",
    "\n",
    "# Convert to pandas DataFrames\n",
    "train_df = pd.DataFrame(dataset[\"train\"])\n",
    "test_df = pd.DataFrame(dataset[\"test\"])\n"
   ]
  },
  {
   "cell_type": "code",
   "execution_count": 2,
   "id": "93bb75c1-b9ac-4745-a9eb-3a08420d4137",
   "metadata": {},
   "outputs": [],
   "source": [
    "def create_t5_format(df):\n",
    "    t5_data = []\n",
    "    for _, row in df.iterrows():\n",
    "        input_text = (\n",
    "            f\"Translate to SQL:\\n\"\n",
    "            f\"Context:\\n{row['sql_context']}\\n\\n\"\n",
    "            f\"Question:\\n{row['sql_prompt']}\"\n",
    "        )\n",
    "        output_text = row['sql']\n",
    "        t5_data.append({\"input\": input_text, \"target\": output_text})\n",
    "    return t5_data"
   ]
  },
  {
   "cell_type": "code",
   "execution_count": 3,
   "id": "7171355c-c113-417d-abc2-cc7af403de2b",
   "metadata": {},
   "outputs": [
    {
     "name": "stdout",
     "output_type": "stream",
     "text": [
      "Saved T5-formatted data to 'data/t5_train.json'\n",
      "Saved T5-formatted data to 'data/t5_test.json'\n"
     ]
    }
   ],
   "source": [
    "from pathlib import Path\n",
    "import json\n",
    "\n",
    "for df, df_name in [(train_df, \"t5_train\"), (test_df, \"t5_test\")]:\n",
    "    t5_data = create_t5_format(df)\n",
    "    output_filename = Path(f'data/{df_name}.json')\n",
    "    with open(output_filename, 'w', encoding='utf-8') as f:\n",
    "        json.dump(t5_data, f, indent=2, ensure_ascii=False)\n",
    "    print(f\"Saved T5-formatted data to '{output_filename}'\")"
   ]
  },
  {
   "cell_type": "code",
   "execution_count": 4,
   "id": "05824d65-bb6c-40ae-a9b6-e76d6f261f35",
   "metadata": {},
   "outputs": [],
   "source": [
    "NOTEBOOK_DIR = \"./\""
   ]
  },
  {
   "cell_type": "code",
   "execution_count": 5,
   "id": "c968f559-2d08-4e83-9402-4e999e9af2be",
   "metadata": {},
   "outputs": [],
   "source": [
    "!cp -r $NOTEBOOK_DIR/data/ $NOTEBOOK_DIR/LLaMA-Factory/data/"
   ]
  },
  {
   "cell_type": "code",
   "execution_count": 6,
   "id": "80319bd0-e71c-4303-ac90-e7e105fdde1a",
   "metadata": {},
   "outputs": [],
   "source": [
    "training_args_t5 = {\n",
    "    \"cutoff_len\": 1024,\n",
    "    \"dataset\": \"t5_train\",\n",
    "    \"ddp_timeout\": 9000,\n",
    "    \"do_train\": True,\n",
    "    \"finetuning_type\": \"lora\",\n",
    "    \"fp16\": True,\n",
    "    \"lora_rank\": 8,\n",
    "    \"lora_alpha\": 16,\n",
    "    \"gradient_accumulation_steps\": 4,\n",
    "    \"learning_rate\": 3e-4,\n",
    "    \"logging_steps\": 10,\n",
    "    \"lr_scheduler_type\": \"cosine\",\n",
    "    \"model_name_or_path\": \"t5-small\",\n",
    "    \"num_train_epochs\": 3,\n",
    "    \"output_dir\": \"out_t5\",\n",
    "    \"overwrite_cache\": True,\n",
    "    \"overwrite_output_dir\": True,\n",
    "    \"per_device_train_batch_size\": 4,\n",
    "    \"plot_loss\": True,\n",
    "    \"report_to\": \"none\",\n",
    "    \"save_steps\": 250,\n",
    "    \"gradient_checkpointing\": True,\n",
    "    \"stage\": \"sft\",\n",
    "    \"template\": \"default\",\n",
    "    \"warmup_steps\": 100,\n",
    "    \"weight_decay\": 0.01,\n",
    "    \"max_steps\": 1000\n",
    "}\n",
    "\n",
    "json.dump(training_args_t5, open(f\"{NOTEBOOK_DIR}/LLaMA-Factory/train_t5.json\", \"w\", encoding=\"utf-8\"), indent=2)"
   ]
  },
  {
   "cell_type": "code",
   "execution_count": null,
   "id": "69433b28-ddeb-4777-be34-de93bd751630",
   "metadata": {},
   "outputs": [],
   "source": []
  }
 ],
 "metadata": {
  "kernelspec": {
   "display_name": "Python 3 (ipykernel)",
   "language": "python",
   "name": "python3"
  },
  "language_info": {
   "codemirror_mode": {
    "name": "ipython",
    "version": 3
   },
   "file_extension": ".py",
   "mimetype": "text/x-python",
   "name": "python",
   "nbconvert_exporter": "python",
   "pygments_lexer": "ipython3",
   "version": "3.11.2"
  }
 },
 "nbformat": 4,
 "nbformat_minor": 5
}
